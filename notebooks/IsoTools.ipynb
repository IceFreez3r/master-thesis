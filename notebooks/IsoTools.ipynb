{
 "cells": [
  {
   "cell_type": "code",
   "execution_count": null,
   "metadata": {},
   "outputs": [],
   "source": [
    "%load_ext autoreload\n",
    "%autoreload 2"
   ]
  },
  {
   "cell_type": "code",
   "execution_count": null,
   "metadata": {},
   "outputs": [],
   "source": [
    "import sys\n",
    "print(sys.path)\n",
    "sys.path.append('/home/lankenau/isotools/src')"
   ]
  },
  {
   "cell_type": "code",
   "execution_count": null,
   "metadata": {},
   "outputs": [],
   "source": [
    "import pandas as pd\n",
    "import matplotlib.pyplot as plt\n",
    "import os\n",
    "\n",
    "path = '/path/to/data'\n",
    "alignment_path = 'alignment_v45'\n",
    "genome_file = 'GRCh38.p14.genome.fa'\n",
    "genome_path = os.path.join(path, 'gencode_human/version_45', genome_file)"
   ]
  },
  {
   "cell_type": "code",
   "execution_count": null,
   "metadata": {},
   "outputs": [],
   "source": [
    "metadata_file = 'reads/metadata_tissue.tsv'\n",
    "metadata = pd.read_csv(os.path.join(path, metadata_file), sep='\\t')\n",
    "metadata"
   ]
  },
  {
   "cell_type": "code",
   "execution_count": 7,
   "metadata": {},
   "outputs": [
    {
     "name": "stderr",
     "output_type": "stream",
     "text": [
      "INFO:This is isotools version 0.3.5rc10\n"
     ]
    }
   ],
   "source": [
    "import logging\n",
    "from isotools import Transcriptome\n",
    "from isotools import __version__ as isotools_version\n",
    "# set up logging\n",
    "logging.basicConfig(format='%(levelname)s:%(message)s', level=logging.INFO)\n",
    "logger=logging.getLogger('isotools')\n",
    "logger.info(f'This is isotools version {isotools_version}')"
   ]
  },
  {
   "cell_type": "code",
   "execution_count": null,
   "metadata": {},
   "outputs": [],
   "source": [
    "annotation_file=os.path.join(path, 'gencode_human/version_45', 'gencode.v45.chr_patch_hapl_scaff.annotation_sorted.gff3.gz')\n",
    "#create the IsoTools transcriptome object from the reference annotation\n",
    "isoseq=Transcriptome.from_reference(annotation_file)"
   ]
  },
  {
   "cell_type": "code",
   "execution_count": null,
   "metadata": {},
   "outputs": [],
   "source": [
    "for i, row in metadata.iterrows():\n",
    "    sample_name = row['sample ID']\n",
    "    # file is the full (wrong) path, we just need the filename without the extension\n",
    "    sample_file = os.path.join(path, alignment_path, row['file'].split('/')[-1].split('.')[0] + '_aligned.bam')\n",
    "    if not os.path.exists(sample_file):\n",
    "        logger.error(f'File {sample_file} does not exist')\n",
    "        continue\n",
    "    group = row['group']\n",
    "    isoseq.add_sample_from_bam(fn=sample_file, sample_name=sample_name, group=group, strictness=20)\n",
    "isoseq.sample_table"
   ]
  },
  {
   "cell_type": "code",
   "execution_count": 10,
   "metadata": {},
   "outputs": [
    {
     "name": "stderr",
     "output_type": "stream",
     "text": [
      "100%|██████████| 540730/540730 [5:43:42<00:00, 26.22genes/s]  \n",
      "100%|██████████| 540730/540730 [50:30<00:00, 178.43genes/s]\n"
     ]
    }
   ],
   "source": [
    "# compute qc metrics\n",
    "isoseq.add_qc_metrics(genome_path)\n",
    "# add ORF predictions\n",
    "isoseq.add_orf_prediction(genome_path)"
   ]
  },
  {
   "cell_type": "code",
   "execution_count": 11,
   "metadata": {},
   "outputs": [
    {
     "name": "stderr",
     "output_type": "stream",
     "text": [
      "INFO:saving transcriptome to results/isoseq_v45_strict.pkl\n"
     ]
    }
   ],
   "source": [
    "isoseq.save('results/isoseq_v45_strict.pkl')"
   ]
  },
  {
   "cell_type": "code",
   "execution_count": 12,
   "metadata": {},
   "outputs": [
    {
     "name": "stderr",
     "output_type": "stream",
     "text": [
      "INFO:writing gtf file to results/isoseq_v45_strict.gtf\n"
     ]
    }
   ],
   "source": [
    "isoseq.write_gtf(f'results/isoseq_v45_strict.gtf',\n",
    "                 source='isoseq', min_coverage=5,\n",
    "                 gzip=False,\n",
    "                 query=\"\")"
   ]
  },
  {
   "cell_type": "code",
   "execution_count": 13,
   "metadata": {},
   "outputs": [
    {
     "name": "stderr",
     "output_type": "stream",
     "text": [
      "100%|██████████| 540730/540730 [00:31<00:00, 17152.18genes/s]\n"
     ]
    },
    {
     "data": {
      "text/html": [
       "<div>\n",
       "<style scoped>\n",
       "    .dataframe tbody tr th:only-of-type {\n",
       "        vertical-align: middle;\n",
       "    }\n",
       "\n",
       "    .dataframe tbody tr th {\n",
       "        vertical-align: top;\n",
       "    }\n",
       "\n",
       "    .dataframe thead th {\n",
       "        text-align: right;\n",
       "    }\n",
       "</style>\n",
       "<table border=\"1\" class=\"dataframe\">\n",
       "  <thead>\n",
       "    <tr style=\"text-align: right;\">\n",
       "      <th></th>\n",
       "      <th>chr</th>\n",
       "      <th>transcript_start</th>\n",
       "      <th>transcript_end</th>\n",
       "      <th>strand</th>\n",
       "      <th>gene_id</th>\n",
       "      <th>gene_name</th>\n",
       "      <th>transcript_nr</th>\n",
       "      <th>transcript_length</th>\n",
       "      <th>num_exons</th>\n",
       "      <th>exon_starts</th>\n",
       "      <th>...</th>\n",
       "      <th>ovary_sum_coverage</th>\n",
       "      <th>vessel_sum_coverage</th>\n",
       "      <th>aorta_sum_tpm</th>\n",
       "      <th>brain_sum_tpm</th>\n",
       "      <th>colon_sum_tpm</th>\n",
       "      <th>heart_sum_tpm</th>\n",
       "      <th>lung_sum_tpm</th>\n",
       "      <th>muscle_sum_tpm</th>\n",
       "      <th>ovary_sum_tpm</th>\n",
       "      <th>vessel_sum_tpm</th>\n",
       "    </tr>\n",
       "  </thead>\n",
       "  <tbody>\n",
       "    <tr>\n",
       "      <th>0</th>\n",
       "      <td>GL000194.1</td>\n",
       "      <td>61662</td>\n",
       "      <td>62921</td>\n",
       "      <td>-</td>\n",
       "      <td>PB_novel_188266</td>\n",
       "      <td>PB_novel_188266</td>\n",
       "      <td>0</td>\n",
       "      <td>1259</td>\n",
       "      <td>1</td>\n",
       "      <td>61662</td>\n",
       "      <td>...</td>\n",
       "      <td>2</td>\n",
       "      <td>4</td>\n",
       "      <td>0.320567</td>\n",
       "      <td>0.58893</td>\n",
       "      <td>0.391436</td>\n",
       "      <td>0.771620</td>\n",
       "      <td>0.444486</td>\n",
       "      <td>0.00000</td>\n",
       "      <td>0.584430</td>\n",
       "      <td>2.083491</td>\n",
       "    </tr>\n",
       "    <tr>\n",
       "      <th>1</th>\n",
       "      <td>GL000194.1</td>\n",
       "      <td>53591</td>\n",
       "      <td>55442</td>\n",
       "      <td>-</td>\n",
       "      <td>ENSG00000277400.1</td>\n",
       "      <td>ENSG00000277400</td>\n",
       "      <td>0</td>\n",
       "      <td>1851</td>\n",
       "      <td>1</td>\n",
       "      <td>53591</td>\n",
       "      <td>...</td>\n",
       "      <td>3</td>\n",
       "      <td>3</td>\n",
       "      <td>2.243966</td>\n",
       "      <td>0.19631</td>\n",
       "      <td>1.957179</td>\n",
       "      <td>1.043957</td>\n",
       "      <td>1.926105</td>\n",
       "      <td>0.40793</td>\n",
       "      <td>0.876645</td>\n",
       "      <td>1.562618</td>\n",
       "    </tr>\n",
       "    <tr>\n",
       "      <th>2</th>\n",
       "      <td>GL000194.1</td>\n",
       "      <td>53591</td>\n",
       "      <td>115065</td>\n",
       "      <td>-</td>\n",
       "      <td>ENSG00000277400.1</td>\n",
       "      <td>ENSG00000277400</td>\n",
       "      <td>1</td>\n",
       "      <td>2224</td>\n",
       "      <td>3</td>\n",
       "      <td>53591,112791,114985</td>\n",
       "      <td>...</td>\n",
       "      <td>5</td>\n",
       "      <td>3</td>\n",
       "      <td>1.602833</td>\n",
       "      <td>0.58893</td>\n",
       "      <td>1.565743</td>\n",
       "      <td>0.726231</td>\n",
       "      <td>1.629782</td>\n",
       "      <td>0.40793</td>\n",
       "      <td>1.461076</td>\n",
       "      <td>1.562618</td>\n",
       "    </tr>\n",
       "    <tr>\n",
       "      <th>3</th>\n",
       "      <td>GL000194.1</td>\n",
       "      <td>53591</td>\n",
       "      <td>115065</td>\n",
       "      <td>-</td>\n",
       "      <td>ENSG00000277400.1</td>\n",
       "      <td>ENSG00000277400</td>\n",
       "      <td>3</td>\n",
       "      <td>1439</td>\n",
       "      <td>4</td>\n",
       "      <td>53591,54677,112791,114985</td>\n",
       "      <td>...</td>\n",
       "      <td>3</td>\n",
       "      <td>0</td>\n",
       "      <td>0.320567</td>\n",
       "      <td>0.00000</td>\n",
       "      <td>0.391436</td>\n",
       "      <td>0.000000</td>\n",
       "      <td>0.148162</td>\n",
       "      <td>0.00000</td>\n",
       "      <td>0.876645</td>\n",
       "      <td>0.000000</td>\n",
       "    </tr>\n",
       "    <tr>\n",
       "      <th>4</th>\n",
       "      <td>GL000194.1</td>\n",
       "      <td>53591</td>\n",
       "      <td>115065</td>\n",
       "      <td>-</td>\n",
       "      <td>ENSG00000277400.1</td>\n",
       "      <td>ENSG00000277400</td>\n",
       "      <td>4</td>\n",
       "      <td>2224</td>\n",
       "      <td>3</td>\n",
       "      <td>53591,112791,114985</td>\n",
       "      <td>...</td>\n",
       "      <td>8</td>\n",
       "      <td>0</td>\n",
       "      <td>1.602833</td>\n",
       "      <td>0.00000</td>\n",
       "      <td>0.391436</td>\n",
       "      <td>0.635452</td>\n",
       "      <td>0.740810</td>\n",
       "      <td>0.00000</td>\n",
       "      <td>2.337721</td>\n",
       "      <td>0.000000</td>\n",
       "    </tr>\n",
       "  </tbody>\n",
       "</table>\n",
       "<p>5 rows × 29 columns</p>\n",
       "</div>"
      ],
      "text/plain": [
       "          chr  transcript_start  transcript_end strand            gene_id  \\\n",
       "0  GL000194.1             61662           62921      -    PB_novel_188266   \n",
       "1  GL000194.1             53591           55442      -  ENSG00000277400.1   \n",
       "2  GL000194.1             53591          115065      -  ENSG00000277400.1   \n",
       "3  GL000194.1             53591          115065      -  ENSG00000277400.1   \n",
       "4  GL000194.1             53591          115065      -  ENSG00000277400.1   \n",
       "\n",
       "         gene_name  transcript_nr  transcript_length  num_exons  \\\n",
       "0  PB_novel_188266              0               1259          1   \n",
       "1  ENSG00000277400              0               1851          1   \n",
       "2  ENSG00000277400              1               2224          3   \n",
       "3  ENSG00000277400              3               1439          4   \n",
       "4  ENSG00000277400              4               2224          3   \n",
       "\n",
       "                 exon_starts  ... ovary_sum_coverage vessel_sum_coverage  \\\n",
       "0                      61662  ...                  2                   4   \n",
       "1                      53591  ...                  3                   3   \n",
       "2        53591,112791,114985  ...                  5                   3   \n",
       "3  53591,54677,112791,114985  ...                  3                   0   \n",
       "4        53591,112791,114985  ...                  8                   0   \n",
       "\n",
       "  aorta_sum_tpm  brain_sum_tpm  colon_sum_tpm  heart_sum_tpm  lung_sum_tpm  \\\n",
       "0      0.320567        0.58893       0.391436       0.771620      0.444486   \n",
       "1      2.243966        0.19631       1.957179       1.043957      1.926105   \n",
       "2      1.602833        0.58893       1.565743       0.726231      1.629782   \n",
       "3      0.320567        0.00000       0.391436       0.000000      0.148162   \n",
       "4      1.602833        0.00000       0.391436       0.635452      0.740810   \n",
       "\n",
       "   muscle_sum_tpm  ovary_sum_tpm  vessel_sum_tpm  \n",
       "0         0.00000       0.584430        2.083491  \n",
       "1         0.40793       0.876645        1.562618  \n",
       "2         0.40793       1.461076        1.562618  \n",
       "3         0.00000       0.876645        0.000000  \n",
       "4         0.00000       2.337721        0.000000  \n",
       "\n",
       "[5 rows x 29 columns]"
      ]
     },
     "execution_count": 13,
     "metadata": {},
     "output_type": "execute_result"
    }
   ],
   "source": [
    "# export transcript table with the same filter criteria:\n",
    "transcript_tab=isoseq.transcript_table( groups=isoseq.groups(),tpm=True,coverage=True,\n",
    "                                       min_coverage=5, progress_bar=True,\n",
    "                                       query=\"\")\n",
    "# write to csv file\n",
    "transcript_tab.to_csv(f'{path}/demonstration_dataset_substantial_transcripts.csv',\n",
    "                      index=False, sep='\\t')\n",
    "\n",
    "transcript_tab.head()"
   ]
  }
 ],
 "metadata": {
  "kernelspec": {
   "display_name": "iso",
   "language": "python",
   "name": "python3"
  },
  "language_info": {
   "codemirror_mode": {
    "name": "ipython",
    "version": 3
   },
   "file_extension": ".py",
   "mimetype": "text/x-python",
   "name": "python",
   "nbconvert_exporter": "python",
   "pygments_lexer": "ipython3",
   "version": "3.9.19"
  }
 },
 "nbformat": 4,
 "nbformat_minor": 2
}

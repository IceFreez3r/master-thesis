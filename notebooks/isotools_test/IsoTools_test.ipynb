{
 "cells": [
  {
   "cell_type": "code",
   "execution_count": 11,
   "metadata": {},
   "outputs": [
    {
     "name": "stdout",
     "output_type": "stream",
     "text": [
      "The autoreload extension is already loaded. To reload it, use:\n",
      "  %reload_ext autoreload\n"
     ]
    }
   ],
   "source": [
    "%load_ext autoreload\n",
    "%autoreload 2"
   ]
  },
  {
   "cell_type": "code",
   "execution_count": 12,
   "metadata": {},
   "outputs": [],
   "source": [
    "import sys\n",
    "sys.path.append('/home/lankenau/isotools/src')"
   ]
  },
  {
   "cell_type": "code",
   "execution_count": 13,
   "metadata": {},
   "outputs": [],
   "source": [
    "import pandas as pd\n",
    "import matplotlib.pyplot as plt\n",
    "import os\n",
    "import math\n",
    "import copy\n",
    "\n",
    "path = '/path/to/data'\n",
    "alignment_path = 'alignment_v45'\n",
    "genome_file = 'GRCh38.p14.genome.fa'\n",
    "genome_path = os.path.join(path, 'gencode_human/version_45', genome_file)"
   ]
  },
  {
   "cell_type": "code",
   "execution_count": 14,
   "metadata": {},
   "outputs": [
    {
     "name": "stderr",
     "output_type": "stream",
     "text": [
      "INFO:This is isotools version 0.3.5rc10\n"
     ]
    }
   ],
   "source": [
    "import logging\n",
    "from isotools import Transcriptome\n",
    "from isotools import __version__ as isotools_version\n",
    "# set up logging\n",
    "logging.basicConfig(format='%(levelname)s:%(message)s', level=logging.DEBUG)\n",
    "logger = logging.getLogger('isotools')\n",
    "logger.info(f'This is isotools version {isotools_version}')"
   ]
  },
  {
   "cell_type": "code",
   "execution_count": null,
   "metadata": {},
   "outputs": [],
   "source": [
    "annotation_file = \"/path/to/data/reduced/reduced_chr2_240705056_240841559.gtf.gz\"\n",
    "isoseq: Transcriptome = Transcriptome.from_reference(annotation_file)"
   ]
  },
  {
   "cell_type": "code",
   "execution_count": null,
   "metadata": {},
   "outputs": [],
   "source": [
    "metadata_file = \"/path/to/data/reduced/metadata_chr2_240705056_240841559.tsv\"\n",
    "metadata = pd.read_csv(os.path.join(path, metadata_file), sep='\\t')"
   ]
  },
  {
   "cell_type": "code",
   "execution_count": null,
   "metadata": {},
   "outputs": [],
   "source": [
    "for i, row in metadata.iterrows():\n",
    "    sample_name = row['sample ID']\n",
    "    sample_file = row['file']\n",
    "    group = 'Test'\n",
    "    isoseq.add_sample_from_bam(fn=sample_file, sample_name=sample_name, group=group)\n",
    "isoseq.sample_table"
   ]
  },
  {
   "cell_type": "code",
   "execution_count": 18,
   "metadata": {},
   "outputs": [
    {
     "name": "stderr",
     "output_type": "stream",
     "text": [
      "INFO:saving transcriptome to isoseq_test.pkl\n"
     ]
    }
   ],
   "source": [
    "isoseq.save('isoseq_test.pkl')"
   ]
  },
  {
   "cell_type": "code",
   "execution_count": 19,
   "metadata": {},
   "outputs": [
    {
     "name": "stderr",
     "output_type": "stream",
     "text": [
      "INFO:writing gtf file to isoseq.tss.gtf\n",
      "INFO:writing gtf file to isoseq.balanced.tss.gtf\n"
     ]
    }
   ],
   "source": [
    "isoseq.write_gtf('isoseq.tss.gtf', gzip=False, query=\"\")\n",
    "isoseq.write_gtf('isoseq.balanced.tss.gtf', gzip=False, query=\"BALANCED\")"
   ]
  },
  {
   "cell_type": "code",
   "execution_count": 20,
   "metadata": {},
   "outputs": [
    {
     "data": {
      "text/plain": [
       "{'Test': ['ENCSR463IDK_sorted',\n",
       "  'ENCSR205QMF_sorted',\n",
       "  'ENCSR169YNI_sorted',\n",
       "  'ENCSR094NFM_sorted']}"
      ]
     },
     "execution_count": 20,
     "metadata": {},
     "output_type": "execute_result"
    }
   ],
   "source": [
    "isoseq.groups()"
   ]
  }
 ],
 "metadata": {
  "kernelspec": {
   "display_name": "Python 3 (ipykernel)",
   "language": "python",
   "name": "python3"
  },
  "language_info": {
   "codemirror_mode": {
    "name": "ipython",
    "version": 3
   },
   "file_extension": ".py",
   "mimetype": "text/x-python",
   "name": "python",
   "nbconvert_exporter": "python",
   "pygments_lexer": "ipython3",
   "version": "3.12.5"
  }
 },
 "nbformat": 4,
 "nbformat_minor": 2
}

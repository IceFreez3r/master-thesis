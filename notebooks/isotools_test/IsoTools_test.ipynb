{
 "cells": [
  {
   "cell_type": "code",
   "execution_count": 1,
   "metadata": {},
   "outputs": [],
   "source": [
    "%load_ext autoreload\n",
    "%autoreload 2"
   ]
  },
  {
   "cell_type": "code",
   "execution_count": 2,
   "metadata": {},
   "outputs": [],
   "source": [
    "import sys\n",
    "sys.path.append('/home/lankenau/isotools/src')"
   ]
  },
  {
   "cell_type": "code",
   "execution_count": null,
   "metadata": {},
   "outputs": [],
   "source": [
    "import pandas as pd\n",
    "import matplotlib.pyplot as plt\n",
    "import os\n",
    "import math\n",
    "import copy\n",
    "\n",
    "path = '/path/to/data'\n",
    "alignment_path = 'alignment_v45'\n",
    "genome_file = 'GRCh38.p14.genome.fa'\n",
    "genome_path = os.path.join(path, 'gencode_human/version_45', genome_file)"
   ]
  },
  {
   "cell_type": "code",
   "execution_count": 4,
   "metadata": {},
   "outputs": [
    {
     "name": "stderr",
     "output_type": "stream",
     "text": [
      "INFO:This is isotools version 0.3.5rc10\n"
     ]
    }
   ],
   "source": [
    "import logging\n",
    "from isotools import Transcriptome\n",
    "from isotools import __version__ as isotools_version\n",
    "# set up logging\n",
    "logging.basicConfig(format='%(levelname)s:%(message)s', level=logging.DEBUG)\n",
    "logger = logging.getLogger('isotools')\n",
    "logger.info(f'This is isotools version {isotools_version}')"
   ]
  },
  {
   "cell_type": "code",
   "execution_count": null,
   "metadata": {},
   "outputs": [],
   "source": [
    "annotation_file = os.path.join(path, 'gencode_human/version_45', 'gencode.v45.chr_patch_hapl_scaff.annotation_sorted.gff3.gz')\n",
    "# create one IsoTools transcriptome object from the reference annotation per tissue\n",
    "isoseq: Transcriptome = Transcriptome.from_reference(annotation_file)"
   ]
  },
  {
   "cell_type": "code",
   "execution_count": null,
   "metadata": {},
   "outputs": [],
   "source": [
    "sample_name = \"ENCSR094NFM\"\n",
    "# file is the full (wrong) path, we just need the filename without the extension\n",
    "sample_file = \"/path/to/code/snakemake-pipeline/resources/mapped_reads/ENCSR094NFM_test_sorted.bam\"\n",
    "if not os.path.exists(sample_file):\n",
    "    logger.error(f'File {sample_file} does not exist')\n",
    "group = \"brain\"\n",
    "isoseq.add_sample_from_bam(fn=sample_file, sample_name=sample_name, group=group)\n",
    "isoseq.sample_table"
   ]
  },
  {
   "cell_type": "code",
   "execution_count": 7,
   "metadata": {},
   "outputs": [
    {
     "name": "stderr",
     "output_type": "stream",
     "text": [
      "INFO:saving transcriptome to isoseq_test.pkl\n"
     ]
    }
   ],
   "source": [
    "isoseq.save('isoseq_test.pkl')"
   ]
  },
  {
   "cell_type": "code",
   "execution_count": 8,
   "metadata": {},
   "outputs": [
    {
     "name": "stderr",
     "output_type": "stream",
     "text": [
      "INFO:writing gtf file to isoseq.gtf\n",
      "DEBUG:FSM transcript annotation: {'FSM': [1]}\n",
      "DEBUG:Novel transcript annotation: {\"novel 5' splice site\": [(109713563, 2)]}\n",
      "DEBUG:Novel transcript annotation: {'exon skipping': [[109713660, 109713761], [109713952, 109714003]]}\n",
      "DEBUG:Novel transcript annotation: {'novel combination': []}\n",
      "DEBUG:Novel transcript annotation: {'exon skipping': [[109713118, 109713183]]}\n",
      "DEBUG:FSM transcript annotation: {'FSM': [7]}\n",
      "DEBUG:Novel transcript annotation: {'mono-exon': []}\n",
      "DEBUG:FSM transcript annotation: {'FSM': [6]}\n",
      "DEBUG:Novel transcript annotation: {\"novel 3' splice site\": [(109670150, 24)]}\n",
      "DEBUG:Novel transcript annotation: {'novel combination': []}\n",
      "DEBUG:Novel transcript annotation: {\"5' fragment\": [[109668112, 109668473]]}\n",
      "DEBUG:FSM transcript annotation: {'FSM': [13]}\n",
      "DEBUG:Novel transcript annotation: {\"5' fragment\": [[109670658, 109671531]]}\n",
      "DEBUG:Novel transcript annotation: {'mono-exon': []}\n",
      "DEBUG:Novel transcript annotation: {\"novel 5' splice site\": [(109688378, -133)]}\n",
      "DEBUG:Novel transcript annotation: {'novel combination': []}\n",
      "DEBUG:FSM transcript annotation: {'FSM': [1]}\n",
      "DEBUG:FSM transcript annotation: {'FSM': [7]}\n",
      "DEBUG:Novel transcript annotation: {'novel intronic PAS': [[109702622, 109703547]]}\n",
      "DEBUG:Novel transcript annotation: {\"novel 5' splice site\": [(109689127, 2)]}\n",
      "DEBUG:Novel transcript annotation: {\"novel 5' splice site\": [(109689133, -4)]}\n",
      "DEBUG:FSM transcript annotation: {'FSM': [3]}\n",
      "DEBUG:Novel transcript annotation: {'intron retention': [(109688737, 109688990)]}\n",
      "DEBUG:Novel transcript annotation: {'exon skipping': [[109688116, 109688245], [109688672, 109688737], [109688990, 109689129]]}\n",
      "DEBUG:Novel transcript annotation: {\"5' fragment\": [[109687844, 109688168]]}\n",
      "DEBUG:Novel transcript annotation: {\"5' fragment\": [[109687857, 109689070]]}\n",
      "DEBUG:Novel transcript annotation: {\"5' fragment\": [[109687839, 109690338]]}\n",
      "DEBUG:Novel transcript annotation: {'mono-exon': []}\n",
      "DEBUG:Novel transcript annotation: {'antisense': ['GSTM5']}\n",
      "DEBUG:Novel transcript annotation: {'novel combination': []}\n",
      "DEBUG:FSM transcript annotation: {'FSM': [0]}\n",
      "DEBUG:Novel transcript annotation: {\"novel 5' splice site\": [(109661512, -167)], 'novel intronic PAS': [[109661668, 109661699]]}\n",
      "DEBUG:FSM transcript annotation: {'FSM': [4]}\n",
      "DEBUG:Novel transcript annotation: {'intron retention': [(109657671, 109657771), (109657872, 109658813)]}\n",
      "DEBUG:Novel transcript annotation: {'novel combination': []}\n",
      "DEBUG:Novel transcript annotation: {\"novel 5' splice site\": [(109657669, 2)]}\n",
      "DEBUG:Novel transcript annotation: {\"novel 3' splice site\": [(109657354, -5)], 'intron retention': [(109657671, 109657771)]}\n",
      "DEBUG:Novel transcript annotation: {'novel combination': []}\n",
      "DEBUG:FSM transcript annotation: {'FSM': [5]}\n",
      "DEBUG:FSM transcript annotation: {'FSM': [9]}\n",
      "DEBUG:Novel transcript annotation: {'mono-exon': []}\n",
      "DEBUG:FSM transcript annotation: {'FSM': [0]}\n",
      "DEBUG:Novel transcript annotation: {\"novel 5' splice site\": [(109739849, -17)]}\n",
      "DEBUG:Novel transcript annotation: {'intron retention': [(109739493, 109739832)]}\n",
      "DEBUG:FSM transcript annotation: {'FSM': [4]}\n",
      "DEBUG:Novel transcript annotation: {\"novel 5' splice site\": [(109738286, -2)]}\n",
      "DEBUG:Novel transcript annotation: {'novel combination': []}\n",
      "DEBUG:Novel transcript annotation: {\"5' fragment\": [[109737705, 109738143]]}\n",
      "DEBUG:Novel transcript annotation: {\"novel 5' splice site\": [(109739843, -11)]}\n",
      "DEBUG:Novel transcript annotation: {'antisense': ['GSTM4']}\n",
      "INFO:writing gtf file to isoseq.balanced.gtf\n",
      "DEBUG:FSM transcript annotation: {'FSM': [1]}\n",
      "DEBUG:FSM transcript annotation: {'FSM': [7]}\n",
      "DEBUG:FSM transcript annotation: {'FSM': [6]}\n",
      "DEBUG:FSM transcript annotation: {'FSM': [13]}\n",
      "DEBUG:Novel transcript annotation: {'mono-exon': []}\n",
      "DEBUG:FSM transcript annotation: {'FSM': [1]}\n",
      "DEBUG:FSM transcript annotation: {'FSM': [7]}\n",
      "DEBUG:Novel transcript annotation: {'mono-exon': []}\n",
      "DEBUG:FSM transcript annotation: {'FSM': [0]}\n",
      "DEBUG:FSM transcript annotation: {'FSM': [4]}\n",
      "DEBUG:FSM transcript annotation: {'FSM': [9]}\n",
      "DEBUG:Novel transcript annotation: {'mono-exon': []}\n",
      "DEBUG:FSM transcript annotation: {'FSM': [0]}\n",
      "DEBUG:FSM transcript annotation: {'FSM': [4]}\n"
     ]
    }
   ],
   "source": [
    "isoseq.write_gtf('isoseq.gtf', gzip=False, query=\"\")\n",
    "isoseq.write_gtf('isoseq.balanced.gtf', gzip=False, query=\"BALANCED\")"
   ]
  },
  {
   "cell_type": "code",
   "execution_count": 9,
   "metadata": {},
   "outputs": [
    {
     "data": {
      "text/plain": [
       "{'brain': ['ENCSR094NFM']}"
      ]
     },
     "execution_count": 9,
     "metadata": {},
     "output_type": "execute_result"
    }
   ],
   "source": [
    "isoseq.groups()"
   ]
  }
 ],
 "metadata": {
  "kernelspec": {
   "display_name": "Python 3 (ipykernel)",
   "language": "python",
   "name": "python3"
  },
  "language_info": {
   "codemirror_mode": {
    "name": "ipython",
    "version": 3
   },
   "file_extension": ".py",
   "mimetype": "text/x-python",
   "name": "python",
   "nbconvert_exporter": "python",
   "pygments_lexer": "ipython3",
   "version": "3.9.19"
  }
 },
 "nbformat": 4,
 "nbformat_minor": 2
}

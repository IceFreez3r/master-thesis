{
 "cells": [
  {
   "cell_type": "code",
   "execution_count": 22,
   "metadata": {},
   "outputs": [
    {
     "name": "stdout",
     "output_type": "stream",
     "text": [
      "The autoreload extension is already loaded. To reload it, use:\n",
      "  %reload_ext autoreload\n"
     ]
    }
   ],
   "source": [
    "%load_ext autoreload\n",
    "%autoreload 2"
   ]
  },
  {
   "cell_type": "code",
   "execution_count": 23,
   "metadata": {},
   "outputs": [],
   "source": [
    "import sys\n",
    "sys.path.append('/home/lankenau/isotools/src')"
   ]
  },
  {
   "cell_type": "code",
   "execution_count": 24,
   "metadata": {},
   "outputs": [],
   "source": [
    "import pandas as pd\n",
    "import matplotlib.pyplot as plt\n",
    "import os\n",
    "import math\n",
    "import copy\n",
    "\n",
    "path = '/path/to/data'\n",
    "alignment_path = 'alignment_v45'\n",
    "genome_file = 'GRCh38.p14.genome.fa'\n",
    "genome_path = os.path.join(path, 'gencode_human/version_45', genome_file)"
   ]
  },
  {
   "cell_type": "code",
   "execution_count": null,
   "metadata": {},
   "outputs": [],
   "source": [
    "metadata_file = 'reads/metadata_tissue.tsv'\n",
    "metadata = pd.read_csv(os.path.join(path, metadata_file), sep='\\t')\n",
    "metadata"
   ]
  },
  {
   "cell_type": "code",
   "execution_count": 26,
   "metadata": {},
   "outputs": [
    {
     "name": "stderr",
     "output_type": "stream",
     "text": [
      "INFO:This is isotools version 0.3.5rc10\n"
     ]
    }
   ],
   "source": [
    "import logging\n",
    "from isotools import Transcriptome\n",
    "from isotools import __version__ as isotools_version\n",
    "# set up logging\n",
    "logging.basicConfig(format='%(levelname)s:%(message)s', level=logging.INFO)\n",
    "logger = logging.getLogger('isotools')\n",
    "logger.info(f'This is isotools version {isotools_version}')"
   ]
  },
  {
   "cell_type": "code",
   "execution_count": 27,
   "metadata": {},
   "outputs": [
    {
     "data": {
      "text/plain": [
       "array(['aorta', 'brain', 'colon', 'heart', 'lung', 'muscle', 'ovary',\n",
       "       'vessel'], dtype=object)"
      ]
     },
     "execution_count": 27,
     "metadata": {},
     "output_type": "execute_result"
    }
   ],
   "source": [
    "tissues = metadata['group'].unique()\n",
    "tissues"
   ]
  },
  {
   "cell_type": "code",
   "execution_count": null,
   "metadata": {},
   "outputs": [],
   "source": [
    "annotation_file = os.path.join(path, 'gencode_human/version_45', 'gencode.v45.chr_patch_hapl_scaff.annotation_sorted.gff3.gz')\n",
    "# create one IsoTools transcriptome object from the reference annotation per tissue\n",
    "isoseq: Transcriptome = Transcriptome.from_reference(annotation_file)"
   ]
  },
  {
   "cell_type": "code",
   "execution_count": null,
   "metadata": {},
   "outputs": [],
   "source": [
    "for i, row in metadata.iterrows():\n",
    "    sample_name = row['sample ID']\n",
    "    # file is the full (wrong) path, we just need the filename without the extension\n",
    "    sample_file = os.path.join(path, alignment_path, row['file'].split('/')[-1].split('.')[0] + '_aligned.bam')\n",
    "    if not os.path.exists(sample_file):\n",
    "        logger.error(f'File {sample_file} does not exist')\n",
    "        continue\n",
    "    group = row['group']\n",
    "    isoseq.add_sample_from_bam(fn=sample_file, sample_name=sample_name, group=group)\n",
    "    break\n",
    "isoseq.sample_table"
   ]
  },
  {
   "cell_type": "code",
   "execution_count": 9,
   "metadata": {},
   "outputs": [
    {
     "name": "stderr",
     "output_type": "stream",
     "text": [
      "100%|██████████| 541983/541983 [2:11:08<00:00, 68.88genes/s]  \n",
      "100%|██████████| 541983/541983 [29:08<00:00, 310.01genes/s]\n"
     ]
    }
   ],
   "source": [
    "# compute qc metrics\n",
    "isoseq.add_qc_metrics(genome_path)\n",
    "# add ORF predictions\n",
    "isoseq.add_orf_prediction(genome_path)"
   ]
  },
  {
   "cell_type": "code",
   "execution_count": null,
   "metadata": {},
   "outputs": [
    {
     "name": "stderr",
     "output_type": "stream",
     "text": [
      "INFO:replaced existing filter rule INAORTA in transcript context\n"
     ]
    },
    {
     "name": "stdout",
     "output_type": "stream",
     "text": [
      "Added filter INAORTA for tissue aorta: g.coverage[[0, 1],trid].sum() >= 10\n"
     ]
    },
    {
     "name": "stderr",
     "output_type": "stream",
     "text": [
      "INFO:replaced existing filter rule INBRAIN in transcript context\n"
     ]
    },
    {
     "name": "stdout",
     "output_type": "stream",
     "text": [
      "Added filter INBRAIN for tissue brain: g.coverage[[2, 3, 4, 5],trid].sum() >= 10\n"
     ]
    },
    {
     "name": "stderr",
     "output_type": "stream",
     "text": [
      "INFO:replaced existing filter rule INCOLON in transcript context\n"
     ]
    },
    {
     "name": "stdout",
     "output_type": "stream",
     "text": [
      "Added filter INCOLON for tissue colon: g.coverage[[6, 7],trid].sum() >= 10\n"
     ]
    },
    {
     "name": "stderr",
     "output_type": "stream",
     "text": [
      "INFO:replaced existing filter rule INHEART in transcript context\n"
     ]
    },
    {
     "name": "stdout",
     "output_type": "stream",
     "text": [
      "Added filter INHEART for tissue heart: g.coverage[[8, 9, 10, 11, 12, 13, 14, 15, 16, 17, 18, 19, 20, 21, 22, 23],trid].sum() >= 10\n"
     ]
    },
    {
     "name": "stderr",
     "output_type": "stream",
     "text": [
      "INFO:replaced existing filter rule INLUNG in transcript context\n"
     ]
    },
    {
     "name": "stdout",
     "output_type": "stream",
     "text": [
      "Added filter INLUNG for tissue lung: g.coverage[[24, 25, 26, 27],trid].sum() >= 10\n"
     ]
    },
    {
     "name": "stderr",
     "output_type": "stream",
     "text": [
      "INFO:replaced existing filter rule INMUSCLE in transcript context\n"
     ]
    },
    {
     "name": "stdout",
     "output_type": "stream",
     "text": [
      "Added filter INMUSCLE for tissue muscle: g.coverage[[28, 29],trid].sum() >= 10\n"
     ]
    },
    {
     "name": "stderr",
     "output_type": "stream",
     "text": [
      "INFO:replaced existing filter rule INOVARY in transcript context\n"
     ]
    },
    {
     "name": "stdout",
     "output_type": "stream",
     "text": [
      "Added filter INOVARY for tissue ovary: g.coverage[[30, 31],trid].sum() >= 10\n"
     ]
    },
    {
     "name": "stderr",
     "output_type": "stream",
     "text": [
      "INFO:replaced existing filter rule INVESSEL in transcript context\n"
     ]
    },
    {
     "name": "stdout",
     "output_type": "stream",
     "text": [
      "Added filter INVESSEL for tissue vessel: g.coverage[[32, 33],trid].sum() >= 10\n"
     ]
    }
   ],
   "source": [
    "group_idx = {gn:[i for i,sa in enumerate(isoseq.samples) if sa in grp] for gn,grp in isoseq.groups().items()}\n",
    "for tissue in tissues:\n",
    "    filter_name = 'IN' + tissue.upper()\n",
    "    tissue_index = group_idx[tissue]\n",
    "    # TODO: Lower coverage threshold, high for now to reduce time\n",
    "    expression = f'g.coverage[{tissue_index},trid].sum() >= 10'\n",
    "    isoseq.add_filter(tag=filter_name, expression=expression, context='transcript', update=True)\n",
    "    print(f'Added filter {filter_name} for tissue {tissue}: {expression}')"
   ]
  },
  {
   "cell_type": "code",
   "execution_count": 32,
   "metadata": {},
   "outputs": [
    {
     "name": "stderr",
     "output_type": "stream",
     "text": [
      "WARNING:Some attributes not present in transcript context, please make sure there is no typo: coverage\n",
      "This can happen for correct filters when there are no or only a few transcripts loaded into the model.\n",
      "INFO:replaced existing filter rule HIGH_COVER in transcript context\n",
      "WARNING:Some attributes not present in transcript context, please make sure there is no typo: annotation,noncanonical_splicing,novel_splice_sites,exons,downstream_A_content,fragments\n",
      "This can happen for correct filters when there are no or only a few transcripts loaded into the model.\n",
      "INFO:replaced existing filter rule PERMISSIVE in transcript context\n",
      "WARNING:Some attributes not present in transcript context, please make sure there is no typo: annotation,coverage,noncanonical_splicing,novel_splice_sites,fragments,exons,downstream_A_content\n",
      "This can happen for correct filters when there are no or only a few transcripts loaded into the model.\n",
      "INFO:replaced existing filter rule BALANCED in transcript context\n",
      "WARNING:Some attributes not present in transcript context, please make sure there is no typo: coverage,annotation,noncanonical_splicing,novel_splice_sites,fragments,exons,downstream_A_content\n",
      "This can happen for correct filters when there are no or only a few transcripts loaded into the model.\n",
      "INFO:replaced existing filter rule STRICT in transcript context\n"
     ]
    }
   ],
   "source": [
    "isoseq.add_filter(tag='HIGH_COVER',\n",
    "                  expression='g.coverage.sum(0)[trid] >= 7',\n",
    "                  context='transcript',\n",
    "                  update=True)\n",
    "isoseq.add_filter(tag='PERMISSIVE',\n",
    "                  expression='FSM or not (RTTS or INTERNAL_PRIMING or FRAGMENT)',\n",
    "                  context='transcript',\n",
    "                  update=True)\n",
    "isoseq.add_filter(tag='BALANCED',\n",
    "                  expression='FSM or (HIGH_COVER and not (RTTS or FRAGMENT or INTERNAL_PRIMING))',\n",
    "                  context='transcript',\n",
    "                  update=True)\n",
    "isoseq.add_filter(tag='STRICT',\n",
    "                  expression='SUBSTANTIAL and (FSM or not (RTTS or FRAGMENT or INTERNAL_PRIMING))',\n",
    "                  context='transcript',\n",
    "                  update=True)"
   ]
  },
  {
   "cell_type": "code",
   "execution_count": 32,
   "metadata": {},
   "outputs": [
    {
     "name": "stderr",
     "output_type": "stream",
     "text": [
      "[autoreload of isotools.splice_graph failed: Traceback (most recent call last):\n",
      "  File \"/home/lankenau/miniforge3/envs/isodev/lib/python3.9/site-packages/IPython/extensions/autoreload.py\", line 276, in check\n",
      "    superreload(m, reload, self.old_objects)\n",
      "  File \"/home/lankenau/miniforge3/envs/isodev/lib/python3.9/site-packages/IPython/extensions/autoreload.py\", line 500, in superreload\n",
      "    update_generic(old_obj, new_obj)\n",
      "  File \"/home/lankenau/miniforge3/envs/isodev/lib/python3.9/site-packages/IPython/extensions/autoreload.py\", line 397, in update_generic\n",
      "    update(a, b)\n",
      "  File \"/home/lankenau/miniforge3/envs/isodev/lib/python3.9/site-packages/IPython/extensions/autoreload.py\", line 365, in update_class\n",
      "    update_instances(old, new)\n",
      "  File \"/home/lankenau/miniforge3/envs/isodev/lib/python3.9/site-packages/IPython/extensions/autoreload.py\", line 323, in update_instances\n",
      "    object.__setattr__(ref, \"__class__\", new)\n",
      "TypeError: __class__ assignment: 'SegGraphNode' object layout differs from 'SegGraphNode'\n",
      "]\n",
      "[autoreload of isotools.gene failed: Traceback (most recent call last):\n",
      "  File \"/home/lankenau/miniforge3/envs/isodev/lib/python3.9/site-packages/IPython/extensions/autoreload.py\", line 276, in check\n",
      "    superreload(m, reload, self.old_objects)\n",
      "  File \"/home/lankenau/miniforge3/envs/isodev/lib/python3.9/site-packages/IPython/extensions/autoreload.py\", line 500, in superreload\n",
      "    update_generic(old_obj, new_obj)\n",
      "  File \"/home/lankenau/miniforge3/envs/isodev/lib/python3.9/site-packages/IPython/extensions/autoreload.py\", line 397, in update_generic\n",
      "    update(a, b)\n",
      "  File \"/home/lankenau/miniforge3/envs/isodev/lib/python3.9/site-packages/IPython/extensions/autoreload.py\", line 365, in update_class\n",
      "    update_instances(old, new)\n",
      "  File \"/home/lankenau/miniforge3/envs/isodev/lib/python3.9/site-packages/IPython/extensions/autoreload.py\", line 323, in update_instances\n",
      "    object.__setattr__(ref, \"__class__\", new)\n",
      "TypeError: __class__ assignment: 'Gene' object layout differs from 'Gene'\n",
      "]\n",
      "INFO:saving transcriptome to results/isoseq_v45.pkl\n"
     ]
    },
    {
     "ename": "PicklingError",
     "evalue": "Can't pickle <class 'isotools.splice_graph.SegGraphNode'>: it's not the same object as isotools.splice_graph.SegGraphNode",
     "output_type": "error",
     "traceback": [
      "\u001b[0;31m---------------------------------------------------------------------------\u001b[0m",
      "\u001b[0;31mPicklingError\u001b[0m                             Traceback (most recent call last)",
      "Cell \u001b[0;32mIn[32], line 1\u001b[0m\n\u001b[0;32m----> 1\u001b[0m \u001b[43misoseq\u001b[49m\u001b[38;5;241;43m.\u001b[39;49m\u001b[43msave\u001b[49m\u001b[43m(\u001b[49m\u001b[38;5;124;43m'\u001b[39;49m\u001b[38;5;124;43mresults/isoseq_v45.pkl\u001b[39;49m\u001b[38;5;124;43m'\u001b[39;49m\u001b[43m)\u001b[49m\n",
      "File \u001b[0;32m~/isotools/src/isotools/transcriptome.py:94\u001b[0m, in \u001b[0;36mTranscriptome.save\u001b[0;34m(self, pickle_file)\u001b[0m\n\u001b[1;32m     92\u001b[0m     pickle_file \u001b[38;5;241m=\u001b[39m \u001b[38;5;28mself\u001b[39m\u001b[38;5;241m.\u001b[39minfos[\u001b[38;5;124m'\u001b[39m\u001b[38;5;124mout_file_name\u001b[39m\u001b[38;5;124m'\u001b[39m] \u001b[38;5;241m+\u001b[39m \u001b[38;5;124m'\u001b[39m\u001b[38;5;124m.isotools.pkl\u001b[39m\u001b[38;5;124m'\u001b[39m  \u001b[38;5;66;03m# key error if not set\u001b[39;00m\n\u001b[1;32m     93\u001b[0m logger\u001b[38;5;241m.\u001b[39minfo(\u001b[38;5;124m'\u001b[39m\u001b[38;5;124msaving transcriptome to \u001b[39m\u001b[38;5;132;01m%s\u001b[39;00m\u001b[38;5;124m'\u001b[39m, pickle_file)\n\u001b[0;32m---> 94\u001b[0m \u001b[43mpickle\u001b[49m\u001b[38;5;241;43m.\u001b[39;49m\u001b[43mdump\u001b[49m\u001b[43m(\u001b[49m\u001b[38;5;28;43mself\u001b[39;49m\u001b[43m,\u001b[49m\u001b[43m \u001b[49m\u001b[38;5;28;43mopen\u001b[39;49m\u001b[43m(\u001b[49m\u001b[43mpickle_file\u001b[49m\u001b[43m,\u001b[49m\u001b[43m \u001b[49m\u001b[38;5;124;43m'\u001b[39;49m\u001b[38;5;124;43mwb\u001b[39;49m\u001b[38;5;124;43m'\u001b[39;49m\u001b[43m)\u001b[49m\u001b[43m)\u001b[49m\n",
      "\u001b[0;31mPicklingError\u001b[0m: Can't pickle <class 'isotools.splice_graph.SegGraphNode'>: it's not the same object as isotools.splice_graph.SegGraphNode"
     ]
    }
   ],
   "source": [
    "isoseq.save('results/isoseq_v45.pkl')"
   ]
  },
  {
   "cell_type": "code",
   "execution_count": null,
   "metadata": {},
   "outputs": [
    {
     "name": "stderr",
     "output_type": "stream",
     "text": [
      "INFO:writing gtf file to results/isoseq_v45.gtf\n"
     ]
    }
   ],
   "source": [
    "isoseq.write_gtf('results/isoseq_v45.gtf', min_coverage=5, gzip=False, query=\"\")"
   ]
  },
  {
   "cell_type": "code",
   "execution_count": 13,
   "metadata": {},
   "outputs": [
    {
     "data": {
      "text/plain": [
       "{'aorta': ['ENCSR700EBI', 'ENCSR425HFS'],\n",
       " 'brain': ['ENCSR463IDK', 'ENCSR205QMF', 'ENCSR169YNI', 'ENCSR094NFM'],\n",
       " 'colon': ['ENCSR997RFW', 'ENCSR450GAR'],\n",
       " 'heart': ['ENCSR984OAE',\n",
       "  'ENCSR994YZY',\n",
       "  'ENCSR728TXV',\n",
       "  'ENCSR549ELD',\n",
       "  'ENCSR782LGT',\n",
       "  'ENCSR514YQN',\n",
       "  'ENCSR700XDQ',\n",
       "  'ENCSR424QFN',\n",
       "  'ENCSR575LWI',\n",
       "  'ENCSR329ZQG',\n",
       "  'ENCSR553SVP',\n",
       "  'ENCSR777CCI',\n",
       "  'ENCSR435UUS',\n",
       "  'ENCSR899GAP',\n",
       "  'ENCSR591OZR',\n",
       "  'ENCSR786FLO'],\n",
       " 'lung': ['ENCSR261GOA', 'ENCSR096QUP', 'ENCSR986WKB', 'ENCSR323XND'],\n",
       " 'muscle': ['ENCSR803QWH', 'ENCSR243DYK'],\n",
       " 'ovary': ['ENCSR477HHG', 'ENCSR507WZC'],\n",
       " 'vessel': ['ENCSR853YZN', 'ENCSR138TAS']}"
      ]
     },
     "execution_count": 13,
     "metadata": {},
     "output_type": "execute_result"
    }
   ],
   "source": [
    "isoseq.groups()"
   ]
  }
 ],
 "metadata": {
  "kernelspec": {
   "display_name": "iso",
   "language": "python",
   "name": "python3"
  },
  "language_info": {
   "codemirror_mode": {
    "name": "ipython",
    "version": 3
   },
   "file_extension": ".py",
   "mimetype": "text/x-python",
   "name": "python",
   "nbconvert_exporter": "python",
   "pygments_lexer": "ipython3",
   "version": "3.9.19"
  }
 },
 "nbformat": 4,
 "nbformat_minor": 2
}
